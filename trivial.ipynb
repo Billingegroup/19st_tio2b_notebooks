{
 "cells": [
  {
   "cell_type": "markdown",
   "metadata": {},
   "source": [
    "# Make data table"
   ]
  },
  {
   "cell_type": "code",
   "execution_count": 14,
   "metadata": {},
   "outputs": [],
   "source": [
    "import pandas as pd\n",
    "import os\n",
    "\n",
    "\n",
    "samples = [\"JBNP31\", \"JBNP32L\", \"JBNP32\", \"JBNP33L\", \"JBNP33\"]\n",
    "dct = {\"sample\": samples, \"iq\": [], \"sq\": [], \"fq\": [], \"gr\": []}\n",
    "for root, dirs, files in os.walk(\"data\"):\n",
    "    if \".ipynb_checkpoints\" in root:\n",
    "        pass\n",
    "    else:\n",
    "        for fname in files:\n",
    "            ext = os.path.splitext(fname)[1]\n",
    "            path = os.path.join(root, fname)\n",
    "            if ext == \".iq\":\n",
    "                dct[\"iq\"].append(path)\n",
    "            elif ext == \".sq\":\n",
    "                dct[\"sq\"].append(path)\n",
    "            elif ext == \".fq\":\n",
    "                dct[\"fq\"].append(path)\n",
    "            elif ext == \".gr\":\n",
    "                dct[\"gr\"].append(path)\n",
    "            else:\n",
    "                print(f\"Unknow extension: {ext}\")\n",
    "for key in (\"iq\", \"sq\", \"fq\", \"gr\"):\n",
    "    dct[key].sort()\n",
    "\n",
    "df = pd.DataFrame(dct)\n",
    "df.to_csv(\"data_info.csv\", index=False)"
   ]
  },
  {
   "cell_type": "code",
   "execution_count": 4,
   "metadata": {},
   "outputs": [],
   "source": []
  },
  {
   "cell_type": "code",
   "execution_count": null,
   "metadata": {},
   "outputs": [],
   "source": []
  }
 ],
 "metadata": {
  "kernelspec": {
   "display_name": "Python 3",
   "language": "python",
   "name": "python3"
  },
  "language_info": {
   "codemirror_mode": {
    "name": "ipython",
    "version": 3
   },
   "file_extension": ".py",
   "mimetype": "text/x-python",
   "name": "python",
   "nbconvert_exporter": "python",
   "pygments_lexer": "ipython3",
   "version": "3.7.3"
  }
 },
 "nbformat": 4,
 "nbformat_minor": 4
}
